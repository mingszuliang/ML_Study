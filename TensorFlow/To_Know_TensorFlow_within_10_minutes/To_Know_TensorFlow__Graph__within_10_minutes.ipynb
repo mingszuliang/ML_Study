{
 "cells": [
  {
   "cell_type": "markdown",
   "metadata": {},
   "source": [
    "#  To Know TensorFlow Graph within 10 Minutes  #  \n",
    "  \n",
    "  \n",
    "**Reference**:  \n",
    "  \n",
    "- [Getting Started With TensorFlow](https://www.tensorflow.org/get_started/get_started)  \n",
    "- []()  \n",
    "  "
   ]
  },
  {
   "cell_type": "markdown",
   "metadata": {},
   "source": [
    "##  TensorFlow == Tensor + Flow  ##\n",
    "  \n",
    "- Tensor 就把它 當作是一個多維 的資料\n",
    "- Flow 就當作是 一種計算的過程\n",
    "  "
   ]
  },
  {
   "cell_type": "markdown",
   "metadata": {},
   "source": [
    " \n",
    "TensorFlow Core programs as consisting of two discrete sections:  \n",
    "  \n",
    "- Build Graph  \n",
    "- Run Graph  \n",
    "  \n",
    "  "
   ]
  },
  {
   "cell_type": "markdown",
   "metadata": {},
   "source": [
    "##  Graph  ##\n",
    "\n",
    "- Graph 是由 Operations 所組成 Nodes\n",
    "- 每個 Node 之間的關係, 就由 Tensor 當作是 input/output.\n",
    "  \n"
   ]
  },
  {
   "cell_type": "markdown",
   "metadata": {},
   "source": [
    "---  \n",
    "  \n",
    "###  Code  ###  \n",
    "  "
   ]
  },
  {
   "cell_type": "code",
   "execution_count": 71,
   "metadata": {
    "collapsed": true
   },
   "outputs": [],
   "source": [
    "import tensorflow as tf\n",
    "\n",
    "a = tf.constant([1, 2], name=\"const3\")\n",
    "b = tf.constant([2, 3], name=\"const4\")\n",
    "\n",
    "add_op = tf.add(a, b, name=\"Add\")\n",
    "  "
   ]
  },
  {
   "cell_type": "markdown",
   "metadata": {},
   "source": [
    "  \n",
    "  ---\n",
    "    "
   ]
  },
  {
   "cell_type": "markdown",
   "metadata": {},
   "source": [
    "上面的 Code 若轉成 Graph, 就變成下面這圖:\n",
    "\n",
    "![add_op](./assets/getting_started_add.png)\n",
    "  "
   ]
  },
  {
   "cell_type": "markdown",
   "metadata": {},
   "source": [
    "const3, const4, Add 都是 Node (Operation)  \n",
    "Add 需要 Tensors (const3, const4) 當作輸入, 才能完成這個 Operation.  \n",
    "  \n",
    "而 const3 和 const4 是不需要 input 的, 因為他們是 constant.  \n",
    "  "
   ]
  },
  {
   "cell_type": "markdown",
   "metadata": {},
   "source": [
    "##  Build Graph  ##\n",
    "  \n",
    "前面其實就是在 Build Graph.\n",
    "  \n",
    "實際上 Graph 建立完, 若你真正去 dump add_op 出來看, 你會發現, 他們都是 Tensor, 也不會作任何運算. "
   ]
  },
  {
   "cell_type": "code",
   "execution_count": 72,
   "metadata": {},
   "outputs": [
    {
     "name": "stdout",
     "output_type": "stream",
     "text": [
      "\n",
      " a=Tensor(\"const3_13:0\", shape=(2,), dtype=int32)\n",
      " b=Tensor(\"const4_13:0\", shape=(2,), dtype=int32)\n",
      " add_op=Tensor(\"Add_13:0\", shape=(2,), dtype=int32)\n",
      "\n"
     ]
    }
   ],
   "source": [
    "print(\"\")\n",
    "print(\" a={}\".format(a))\n",
    "print(\" b={}\".format(b))\n",
    "print(\" add_op={}\".format(add_op))\n",
    "print(\"\")\n",
    "  "
   ]
  },
  {
   "cell_type": "code",
   "execution_count": 73,
   "metadata": {},
   "outputs": [],
   "source": [
    "# print(\"\")\n",
    "# print(\" a.eval()={}\".format(a.eval()))\n",
    "# print(\" b.eval()={}\".format(b.eval()))\n",
    "# print(\" add_op.eval()={}\".format(add_op.eval()))\n",
    "# print(\"\")\n",
    "  \n",
    "##  ---------------------------------------------------------------------------\n",
    "##  ValueError                                Traceback (most recent call last)\n",
    "##  <ipython-input-21-5d94cceaf438> in <module>()\n",
    "##        1 print(\"\")\n",
    "##  ----> 2 print(\" a.eval()={}\".format(a.eval()))\n",
    "##        3 print(\" b.eval()={}\".format(b.eval()))\n",
    "##        4 print(\" add_op.eval()={}\".format(add_op.eval()))\n",
    "##        5 print(\"\")\n",
    "##  \n",
    "##  /media/mingszuliang/my_work/work_02/NLU/venv/pyenv3/lib/python3.5/site-packages/tensorflow/python/framework/ops.py in eval(self, feed_dict, session)\n",
    "##      604 \n",
    "##      605     \"\"\"\n",
    "##  --> 606     return _eval_using_default_session(self, feed_dict, self.graph, session)\n",
    "##      607 \n",
    "##      608 \n",
    "##  \n",
    "##  /media/mingszuliang/my_work/work_02/NLU/venv/pyenv3/lib/python3.5/site-packages/tensorflow/python/framework/ops.py in _eval_using_default_session(tensors, feed_dict, graph, session)\n",
    "##     3912     session = get_default_session()\n",
    "##     3913     if session is None:\n",
    "##  -> 3914       raise ValueError(\"Cannot evaluate tensor using `eval()`: No default \"\n",
    "##     3915                        \"session is registered. Use `with \"\n",
    "##     3916                        \"sess.as_default()` or pass an explicit session to \"\n",
    "##  \n",
    "##  ValueError: Cannot evaluate tensor using `eval()`: No default session is registered. Use `with sess.as_default()` or pass an explicit session to `eval(session=sess)`\n"
   ]
  },
  {
   "cell_type": "markdown",
   "metadata": {},
   "source": [
    "##  Run Graph ##\n",
    "\n",
    "而真正會作運算, TensorFlow 是使用 Session 來執行相關的運算.\n",
    "  "
   ]
  },
  {
   "cell_type": "markdown",
   "metadata": {},
   "source": [
    "  \n",
    " ---\n",
    "    \n",
    " ###  Code  ###\n",
    "   \n",
    " "
   ]
  },
  {
   "cell_type": "code",
   "execution_count": 74,
   "metadata": {},
   "outputs": [
    {
     "name": "stdout",
     "output_type": "stream",
     "text": [
      " const3=[1 2]\n",
      " const4=[2 3]\n",
      " result=[3 5]\n",
      "\n"
     ]
    }
   ],
   "source": [
    "with tf.Session() as sess:\n",
    "    #sess.run(tf.global_variables_initializer())\n",
    "    const3 = sess.run(a)\n",
    "    print(\" const3={}\".format(const3))\n",
    "    const4 = sess.run(b)\n",
    "    print(\" const4={}\".format(const4))\n",
    "    result = sess.run(add_op)\n",
    "    print(\" result={}\".format(result))\n",
    "    print(\"\")\n",
    "    "
   ]
  },
  {
   "cell_type": "markdown",
   "metadata": {},
   "source": [
    "  \n",
    " ---\n",
    "   \n",
    "   "
   ]
  },
  {
   "cell_type": "code",
   "execution_count": 75,
   "metadata": {},
   "outputs": [
    {
     "name": "stdout",
     "output_type": "stream",
     "text": [
      " a=Tensor(\"const3_13:0\", shape=(2,), dtype=int32), a.eval()=[1 2]\n",
      "\n"
     ]
    }
   ],
   "source": [
    "with tf.Session() as sess:\n",
    "    print(\" a={}, a.eval()={}\".format(a, a.eval()))\n",
    "    print(\"\")\n",
    "    "
   ]
  },
  {
   "cell_type": "markdown",
   "metadata": {},
   "source": [
    "  \n",
    " ---\n",
    "   \n",
    "   "
   ]
  },
  {
   "cell_type": "code",
   "execution_count": 76,
   "metadata": {},
   "outputs": [
    {
     "name": "stdout",
     "output_type": "stream",
     "text": [
      " a=Tensor(\"const3_13:0\", shape=(2,), dtype=int32), a.eval()=[1 2]\n",
      "\n"
     ]
    }
   ],
   "source": [
    "session = tf.Session()\n",
    "print(\" a={}, a.eval()={}\".format(a, a.eval(session=session)))\n",
    "print(\"\")\n",
    "session.close()\n",
    "\n"
   ]
  },
  {
   "cell_type": "markdown",
   "metadata": {},
   "source": [
    "  \n",
    " ---\n",
    "   \n",
    "   "
   ]
  },
  {
   "cell_type": "code",
   "execution_count": 77,
   "metadata": {},
   "outputs": [
    {
     "ename": "ValueError",
     "evalue": "Cannot evaluate tensor using `eval()`: No default session is registered. Use `with sess.as_default()` or pass an explicit session to `eval(session=sess)`",
     "output_type": "error",
     "traceback": [
      "\u001b[0;31m---------------------------------------------------------------------------\u001b[0m",
      "\u001b[0;31mValueError\u001b[0m                                Traceback (most recent call last)",
      "\u001b[0;32m<ipython-input-77-57795f56a6f2>\u001b[0m in \u001b[0;36m<module>\u001b[0;34m()\u001b[0m\n\u001b[0;32m----> 1\u001b[0;31m \u001b[0mprint\u001b[0m\u001b[0;34m(\u001b[0m\u001b[0;34m\" a={}, a.eval()={}\"\u001b[0m\u001b[0;34m.\u001b[0m\u001b[0mformat\u001b[0m\u001b[0;34m(\u001b[0m\u001b[0ma\u001b[0m\u001b[0;34m,\u001b[0m \u001b[0ma\u001b[0m\u001b[0;34m.\u001b[0m\u001b[0meval\u001b[0m\u001b[0;34m(\u001b[0m\u001b[0;34m)\u001b[0m\u001b[0;34m)\u001b[0m\u001b[0;34m)\u001b[0m\u001b[0;34m\u001b[0m\u001b[0m\n\u001b[0m\u001b[1;32m      2\u001b[0m \u001b[0mprint\u001b[0m\u001b[0;34m(\u001b[0m\u001b[0;34m\"\"\u001b[0m\u001b[0;34m)\u001b[0m\u001b[0;34m\u001b[0m\u001b[0m\n",
      "\u001b[0;32m/media/mingszuliang/my_work/work_02/NLU/venv/pyenv3/lib/python3.5/site-packages/tensorflow/python/framework/ops.py\u001b[0m in \u001b[0;36meval\u001b[0;34m(self, feed_dict, session)\u001b[0m\n\u001b[1;32m    604\u001b[0m \u001b[0;34m\u001b[0m\u001b[0m\n\u001b[1;32m    605\u001b[0m     \"\"\"\n\u001b[0;32m--> 606\u001b[0;31m     \u001b[0;32mreturn\u001b[0m \u001b[0m_eval_using_default_session\u001b[0m\u001b[0;34m(\u001b[0m\u001b[0mself\u001b[0m\u001b[0;34m,\u001b[0m \u001b[0mfeed_dict\u001b[0m\u001b[0;34m,\u001b[0m \u001b[0mself\u001b[0m\u001b[0;34m.\u001b[0m\u001b[0mgraph\u001b[0m\u001b[0;34m,\u001b[0m \u001b[0msession\u001b[0m\u001b[0;34m)\u001b[0m\u001b[0;34m\u001b[0m\u001b[0m\n\u001b[0m\u001b[1;32m    607\u001b[0m \u001b[0;34m\u001b[0m\u001b[0m\n\u001b[1;32m    608\u001b[0m \u001b[0;34m\u001b[0m\u001b[0m\n",
      "\u001b[0;32m/media/mingszuliang/my_work/work_02/NLU/venv/pyenv3/lib/python3.5/site-packages/tensorflow/python/framework/ops.py\u001b[0m in \u001b[0;36m_eval_using_default_session\u001b[0;34m(tensors, feed_dict, graph, session)\u001b[0m\n\u001b[1;32m   3912\u001b[0m     \u001b[0msession\u001b[0m \u001b[0;34m=\u001b[0m \u001b[0mget_default_session\u001b[0m\u001b[0;34m(\u001b[0m\u001b[0;34m)\u001b[0m\u001b[0;34m\u001b[0m\u001b[0m\n\u001b[1;32m   3913\u001b[0m     \u001b[0;32mif\u001b[0m \u001b[0msession\u001b[0m \u001b[0;32mis\u001b[0m \u001b[0;32mNone\u001b[0m\u001b[0;34m:\u001b[0m\u001b[0;34m\u001b[0m\u001b[0m\n\u001b[0;32m-> 3914\u001b[0;31m       raise ValueError(\"Cannot evaluate tensor using `eval()`: No default \"\n\u001b[0m\u001b[1;32m   3915\u001b[0m                        \u001b[0;34m\"session is registered. Use `with \"\u001b[0m\u001b[0;34m\u001b[0m\u001b[0m\n\u001b[1;32m   3916\u001b[0m                        \u001b[0;34m\"sess.as_default()` or pass an explicit session to \"\u001b[0m\u001b[0;34m\u001b[0m\u001b[0m\n",
      "\u001b[0;31mValueError\u001b[0m: Cannot evaluate tensor using `eval()`: No default session is registered. Use `with sess.as_default()` or pass an explicit session to `eval(session=sess)`"
     ]
    }
   ],
   "source": [
    "print(\" a={}, a.eval()={}\".format(a, a.eval()))\n",
    "print(\"\")\n"
   ]
  },
  {
   "cell_type": "markdown",
   "metadata": {},
   "source": [
    "  \n",
    "---\n",
    "  \n",
    "  "
   ]
  },
  {
   "cell_type": "markdown",
   "metadata": {},
   "source": [
    "##  Conclusion  ##  \n",
    "  \n",
    " 我個人還蠻喜歡用底下這張圖片, 來想像 TensorFlow 在 Build/Run Graph 時, 背後真正的作法.  \n",
    "   \n",
    " ---  \n",
    " \n",
    " ![](./assets/IncremeterFifoQueue.gif)  \n",
    " from [TensorFlow - Threading and Queues](https://www.tensorflow.org/programmers_guide/threading_and_queues)\n",
    "   \n",
    "---  \n",
    "  \n",
    "  "
   ]
  }
 ],
 "metadata": {
  "kernelspec": {
   "display_name": "Python 3",
   "language": "python",
   "name": "python3"
  },
  "language_info": {
   "codemirror_mode": {
    "name": "ipython",
    "version": 3
   },
   "file_extension": ".py",
   "mimetype": "text/x-python",
   "name": "python",
   "nbconvert_exporter": "python",
   "pygments_lexer": "ipython3",
   "version": "3.5.2"
  }
 },
 "nbformat": 4,
 "nbformat_minor": 2
}
