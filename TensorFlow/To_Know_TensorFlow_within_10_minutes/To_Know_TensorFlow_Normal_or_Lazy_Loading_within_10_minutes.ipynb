{
 "cells": [
  {
   "cell_type": "markdown",
   "metadata": {},
   "source": [
    "#  To Know Normal Loading vs Lazy Loading within 10 minutes #\n",
    "  \n"
   ]
  },
  {
   "cell_type": "code",
   "execution_count": 1,
   "metadata": {
    "collapsed": true
   },
   "outputs": [],
   "source": [
    "from __future__ import absolute_import\n",
    "from __future__ import division\n",
    "from __future__ import print_function\n",
    "\n",
    "\n",
    "from datetime import datetime\n",
    "import tensorflow as tf\n",
    "\n",
    "\n",
    "def INFO_LOG(info):\n",
    "    print(\"[{}] => {}\".format(datetime.now(), info))\n",
    "    \n",
    "    "
   ]
  },
  {
   "cell_type": "markdown",
   "metadata": {},
   "source": [
    "  \n",
    "## Normal Loading ##\n",
    "  \n"
   ]
  },
  {
   "cell_type": "code",
   "execution_count": 2,
   "metadata": {},
   "outputs": [
    {
     "name": "stdout",
     "output_type": "stream",
     "text": [
      "\n",
      "[2017-07-12 15:38:10.266609] =>  ==> session_1 - run(add_op) = 30 \n",
      "[2017-07-12 15:38:10.267031] =>  ==> session_1 - run(add_op) = 30 \n",
      "[2017-07-12 15:38:10.267323] =>  ==> session_1 - run(add_op) = 30 \n",
      "[2017-07-12 15:38:10.267660] =>  ==> session_1 - run(add_op) = 30 \n",
      "[2017-07-12 15:38:10.268010] =>  ==> session_1 - run(add_op) = 30 \n"
     ]
    }
   ],
   "source": [
    "def normal():\n",
    "    a = tf.Variable(10, name=\"a\")\n",
    "    b = tf.Variable(20, name=\"b\")\n",
    "    add_op = tf.add(a, b)  # <-- Key point\n",
    "\n",
    "    init_op = tf.global_variables_initializer()\n",
    "\n",
    "    session_1 = tf.Session()\n",
    "    session_1.run(init_op)\n",
    "\n",
    "    print(\"\")\n",
    "\n",
    "    for _ in range(5):\n",
    "        INFO_LOG(\" ==> session_1 - run(add_op) = {} \".format(session_1.run(add_op))) \n",
    "\n",
    "    session_1.close()\n",
    "\n",
    "    \n",
    "normal()\n"
   ]
  },
  {
   "cell_type": "markdown",
   "metadata": {},
   "source": [
    "  \n",
    "---\n",
    "  \n"
   ]
  },
  {
   "cell_type": "markdown",
   "metadata": {},
   "source": [
    "## Lazy Loading ##\n",
    "  "
   ]
  },
  {
   "cell_type": "code",
   "execution_count": 3,
   "metadata": {},
   "outputs": [
    {
     "name": "stdout",
     "output_type": "stream",
     "text": [
      "[2017-07-12 15:38:10.335211] =>  ==> session_2 - run(tf.add(a, b)) = 30 \n",
      "[2017-07-12 15:38:10.338002] =>  ==> session_2 - run(tf.add(a, b)) = 30 \n",
      "[2017-07-12 15:38:10.342144] =>  ==> session_2 - run(tf.add(a, b)) = 30 \n",
      "[2017-07-12 15:38:10.346122] =>  ==> session_2 - run(tf.add(a, b)) = 30 \n",
      "[2017-07-12 15:38:10.349755] =>  ==> session_2 - run(tf.add(a, b)) = 30 \n"
     ]
    }
   ],
   "source": [
    "def lazy():\n",
    "    a = tf.Variable(10, name=\"a\")\n",
    "    b = tf.Variable(20, name=\"b\")\n",
    "\n",
    "    init_op = tf.global_variables_initializer()\n",
    "\n",
    "    session_2 = tf.Session()\n",
    "    session_2.run(init_op)\n",
    "\n",
    "    for _ in range(5):\n",
    "        INFO_LOG(\" ==> session_2 - run(tf.add(a, b)) = {} \".format(session_2.run(tf.add(a, b))))  # <-- Key point\n",
    "    \n",
    "    session_2.close()\n",
    "\n",
    "    \n",
    "lazy()\n"
   ]
  },
  {
   "cell_type": "markdown",
   "metadata": {},
   "source": [
    "  \n",
    "---\n",
    "  \n",
    "  "
   ]
  },
  {
   "cell_type": "markdown",
   "metadata": {},
   "source": [
    "## Conclusion ##\n",
    "\n",
    "\n",
    "兩者差異在 Node 個數, 我們將兩者的 Graph 給 dump 出來, 發現 後者 Lazy Loading 比前者 Normal Loading 多了 ... \n",
    "\n",
    "\n",
    "```\n",
    "\n",
    "node {  \n",
    "    name: \"Add_1\"  \n",
    "    op: \"Add\"  \n",
    "    input: \"a/read\"  \n",
    "    input: \"b/read\"  \n",
    "    attr {    \n",
    "        key: \"T\"    \n",
    "        value {      \n",
    "            type: DT_INT32    \n",
    "        }  \n",
    "    }\n",
    "}\n",
    "\n",
    "node {  \n",
    "    name: \"Add_2\"  \n",
    "    op: \"Add\"  \n",
    "    input: \"a/read\"  \n",
    "    input: \"b/read\"  \n",
    "    attr {    \n",
    "        key: \"T\"    \n",
    "        value {      \n",
    "            type: DT_INT32    \n",
    "        }  \n",
    "    }\n",
    "}\n",
    "\n",
    "node {  \n",
    "    name: \"Add_3\"  \n",
    "    op: \"Add\"  \n",
    "    input: \"a/read\"  \n",
    "    input: \"b/read\"  \n",
    "    attr {    \n",
    "        key: \"T\"    \n",
    "        value {      \n",
    "            type: DT_INT32    \n",
    "        }  \n",
    "    }\n",
    "}\n",
    "\n",
    "node {  \n",
    "    name: \"Add_4\"  \n",
    "    op: \"Add\"  \n",
    "    input: \"a/read\"  \n",
    "    input: \"b/read\"  \n",
    "    attr {    \n",
    "        key: \"T\"    \n",
    "        value {      \n",
    "            type: DT_INT32    \n",
    "        }  \n",
    "    }\n",
    "}\n",
    "\n",
    "\n",
    "```  \n",
    "  \n",
    "用 Graph 來看, 就更容易發現兩者的不同 ...\n",
    "  \n",
    "**Normal Loading**  \n",
    "![Normal Loading](./assets/normal_loading.png)  \n",
    "  \n",
    "**Lazy Loading**  \n",
    "![Lazy Loading](./assets/lazy_loading.png)  \n",
    "  \n",
    "所以, 為了 Performance, 盡量使用 Normal Loading 的方式.\n",
    "  "
   ]
  },
  {
   "cell_type": "code",
   "execution_count": null,
   "metadata": {
    "collapsed": true
   },
   "outputs": [],
   "source": []
  }
 ],
 "metadata": {
  "kernelspec": {
   "display_name": "Python 3",
   "language": "python",
   "name": "python3"
  },
  "language_info": {
   "codemirror_mode": {
    "name": "ipython",
    "version": 3
   },
   "file_extension": ".py",
   "mimetype": "text/x-python",
   "name": "python",
   "nbconvert_exporter": "python",
   "pygments_lexer": "ipython3",
   "version": "3.5.2"
  }
 },
 "nbformat": 4,
 "nbformat_minor": 2
}
