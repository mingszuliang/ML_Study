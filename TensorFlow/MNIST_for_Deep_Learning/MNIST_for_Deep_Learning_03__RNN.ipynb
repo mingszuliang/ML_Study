{
 "cells": [
  {
   "cell_type": "markdown",
   "metadata": {},
   "source": [
    "#  MNIST for Deep Learning (3)  -  RNN  #  \n",
    "  \n",
    "  \n",
    "**Reference**  \n",
    "  \n",
    "- []()  \n",
    "  \n",
    "  \n",
    "- [the MNIST dataset](http://yann.lecun.com/exdb/mnist/)    \n",
    "-   \n",
    "  \n",
    "  \n",
    "  "
   ]
  },
  {
   "cell_type": "markdown",
   "metadata": {},
   "source": [
    "##  MINST dataset  ##\n",
    "\n",
    "The MNIST data is split into three parts: \n",
    "- **55,000** data points of training data (**mnist.train**), \n",
    "- **10,000** points of test data (**mnist.test**), \n",
    "- and **5,000** points of validation data (**mnist.validation**)\n",
    "  \n",
    "Each image is 28 pixels by 28 pixels.\n",
    "- We can flatten it into a vector of **28x28 = 784** numbers.\n",
    "  \n"
   ]
  },
  {
   "cell_type": "markdown",
   "metadata": {},
   "source": [
    "**mnist.train.images** is a tensor (an n-dimensional array) with a shape of **[55000, 784]**.\n",
    "The first dimension is an index into the list of images and the second dimension is the index for each pixel in each image. Each entry in the tensor is a pixel intensity between 0 and 1, for a particular pixel in a particular image.\n",
    "  \n",
    "![mnist-train-xs](./assets/mnist-train-xs.png)\n",
    "  \n",
    "   \n",
    "    \n",
    "    "
   ]
  },
  {
   "cell_type": "markdown",
   "metadata": {},
   "source": [
    "  \n",
    "Each image in MNIST has a corresponding label, a number *between 0 and 9* representing the digit drawn in the image.\n",
    "\n",
    "For the purposes of this tutorial, we're going to want our labels as **\"one-hot vectors\"**. A one-hot vector is a vector which is 0 in most dimensions, and 1 in a single dimension. In this case, the nnth digit will be represented as a vector which is 1 in the nnth dimension. For example, 3 would be [0,0,0,1,0,0,0,0,0,0]. Consequently, **mnist.train.labels** is a **[55000, 10]** array of floats.  \n",
    "  \n",
    "![mnist-train-ys](./assets/mnist-train-ys.png)\n",
    "  \n",
    "  \n"
   ]
  },
  {
   "cell_type": "markdown",
   "metadata": {},
   "source": [
    "##  //TODO ... ##"
   ]
  },
  {
   "cell_type": "markdown",
   "metadata": {},
   "source": [
    "##  Python Code  ##  \n",
    "\n",
    "---\n",
    "  "
   ]
  },
  {
   "cell_type": "code",
   "execution_count": 2,
   "metadata": {
    "collapsed": true
   },
   "outputs": [],
   "source": [
    "from __future__ import absolute_import\n",
    "from __future__ import division\n",
    "from __future__ import print_function\n",
    "\n",
    "\n",
    "import argparse\n",
    "import sys\n",
    "import time\n",
    "import tensorflow as tf\n",
    "\n",
    "from tensorflow.examples.tutorials.mnist import input_data\n",
    "\n",
    "\n",
    "FLAGS = None\n",
    "#tf.logging.set_verbosity(tf.logging.INFO)\n",
    "\n",
    "\n",
    "def INFO_LOG(info):\n",
    "    print(\"[{}] => {}\".format(time.strftime(\"%Y-%m-%d %X\", time.localtime()), info))\n",
    "    \n",
    "    "
   ]
  },
  {
   "cell_type": "code",
   "execution_count": 3,
   "metadata": {
    "collapsed": true
   },
   "outputs": [],
   "source": [
    "def lstm_model(hidden_size):\n",
    "    ##  TODO ...\n",
    "    lstm_cell = tf.contrib.rnn.BasicLSTMCell(hidden_size)\n",
    "    tf.contrib.rnn.static_rnn(lstm_cell, byte_list, dtype=tf.float32)\n",
    "    "
   ]
  },
  {
   "cell_type": "code",
   "execution_count": 4,
   "metadata": {
    "collapsed": true
   },
   "outputs": [],
   "source": [
    "def train():\n",
    "    learning_rate = 1e-4\n",
    "    training_count = 20000\n",
    "\n",
    "    #\n",
    "    #       +-+  +-+       +--+\n",
    "    #       |1|->|2|-> ... |28|  -->  time_step_size = 28 (row of image)\n",
    "    #       +-+  +-+       +--+\n",
    "    # img 1:[28] [28]  ... [28]  -->  input_size = 28 (column of image)\n",
    "    #\n",
    "    # img 2:[28] [28]  ... [28]\n",
    "    # img 3:[28] [28]  ... [28]\n",
    "    # ...\n",
    "    # img X:[28] [28]  ... [28]\n",
    "    #\n",
    "    time_step_size = 28\n",
    "    input_size = 28\n",
    "    hidden_size = 128\n",
    "\n",
    "\n",
    "    # Import data\n",
    "    ##mnist = input_data.read_data_sets(FLAGS.data_dir, one_hot=True)\n",
    "    mnist = input_data.read_data_sets(\"./MNIST-data\", one_hot=True)\n",
    "\n",
    "    # Create the model\n",
    "    x = tf.placeholder(tf.float32, [None, time_step_size, input_size], name=\"x_op\")\n",
    "    y_ = tf.placeholder(tf.float32, [None, 10], name=\"y_op\")  # 0 ~ 9 == 10\n",
    "    \n",
    "    ## TODO ...\n",
    "    "
   ]
  },
  {
   "cell_type": "markdown",
   "metadata": {},
   "source": [
    "## Output  ##\n",
    "\n",
    "---\n",
    "  "
   ]
  },
  {
   "cell_type": "code",
   "execution_count": null,
   "metadata": {
    "collapsed": true
   },
   "outputs": [],
   "source": []
  }
 ],
 "metadata": {
  "kernelspec": {
   "display_name": "Python 3",
   "language": "python",
   "name": "python3"
  },
  "language_info": {
   "codemirror_mode": {
    "name": "ipython",
    "version": 3
   },
   "file_extension": ".py",
   "mimetype": "text/x-python",
   "name": "python",
   "nbconvert_exporter": "python",
   "pygments_lexer": "ipython3",
   "version": "3.5.2"
  }
 },
 "nbformat": 4,
 "nbformat_minor": 2
}
